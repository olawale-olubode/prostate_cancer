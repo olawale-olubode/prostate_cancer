{
 "cells": [
  {
   "cell_type": "code",
   "execution_count": null,
   "id": "80d5a8df",
   "metadata": {},
   "outputs": [],
   "source": [
    "import pandas as pd\n",
    "final_prostate_data = pd.read_csv(\"final_prostate_data.csv\")"
   ]
  },
  {
   "cell_type": "code",
   "execution_count": 2,
   "id": "d49be8f4",
   "metadata": {},
   "outputs": [],
   "source": [
    "# For categorical variables\n",
    "for column in final_prostate_data.columns:\n",
    "    if final_prostate_data[column].dtype == 'object':  # assuming categorical variables are of object type\n",
    "        final_prostate_data[column].fillna(data[column].mode()[0], inplace=True)\n",
    "\n",
    "# For numerical variables like age and survey year\n",
    "final_prostate_data['AGEP_A'].fillna(final_prostate_data['AGEP_A'].median(), inplace=True)\n",
    "final_prostate_data['SRVY_YR'].fillna(final_prostate_data['SRVY_YR'].median(), inplace=True)"
   ]
  },
  {
   "cell_type": "code",
   "execution_count": 3,
   "id": "8269320e",
   "metadata": {},
   "outputs": [],
   "source": [
    "# One-hot encoding for categorical variables except the target\n",
    "categorical_vars = final_prostate_data.columns.drop(['AGEP_A', 'SRVY_YR', 'PROSTCAN_A'])\n",
    "final_prostate_data = pd.get_dummies(final_prostate_data, columns=categorical_vars)\n"
   ]
  },
  {
   "cell_type": "code",
   "execution_count": 4,
   "id": "a459f676",
   "metadata": {},
   "outputs": [],
   "source": [
    "from sklearn.preprocessing import StandardScaler\n",
    "\n",
    "# Separating features and target variable\n",
    "X = final_prostate_data.drop('PROSTCAN_A', axis=1)\n",
    "y = final_prostate_data['PROSTCAN_A']\n",
    "\n",
    "# Feature scaling\n",
    "scaler = StandardScaler()\n",
    "X_scaled = scaler.fit_transform(X)"
   ]
  },
  {
   "cell_type": "code",
   "execution_count": 5,
   "id": "e96d3065",
   "metadata": {},
   "outputs": [],
   "source": [
    "from sklearn.model_selection import train_test_split\n",
    "\n",
    "# Split the data into training and testing sets\n",
    "X_train, X_test, y_train, y_test = train_test_split(X_scaled, y, test_size=0.2, random_state=42)"
   ]
  },
  {
   "cell_type": "code",
   "execution_count": null,
   "id": "a1a7d5f1",
   "metadata": {},
   "outputs": [],
   "source": [
    "from sklearn.svm import SVC\n",
    "\n",
    "# Create and train the SVM model\n",
    "svm_model = SVC(kernel='linear', probability=True)  # 'linear' kernel is a common choice\n",
    "svm_model.fit(X_train, y_train)"
   ]
  },
  {
   "cell_type": "code",
   "execution_count": null,
   "id": "551ee7f4",
   "metadata": {},
   "outputs": [],
   "source": [
    "# Predictions on the training data\n",
    "y_train_pred = svm_model.predict(X_train)"
   ]
  },
  {
   "cell_type": "code",
   "execution_count": null,
   "id": "215385dc",
   "metadata": {},
   "outputs": [],
   "source": [
    "# Classification report and confusion matrix on training data\n",
    "print(\"Classification Report (Training Data):\")\n",
    "print(classification_report(y_train, y_train_pred))\n",
    "\n",
    "print(\"Confusion Matrix (Training Data):\")\n",
    "print(confusion_matrix(y_train, y_train_pred))\n",
    "\n",
    "# Accuracy on training data\n",
    "print(\"Accuracy (Training Data):\", accuracy_score(y_train, y_train_pred))"
   ]
  },
  {
   "cell_type": "code",
   "execution_count": null,
   "id": "8c0e7c66",
   "metadata": {},
   "outputs": [],
   "source": [
    "from sklearn.metrics import classification_report, confusion_matrix, accuracy_score, roc_auc_score, roc_curve\n",
    "import matplotlib.pyplot as plt\n",
    "\n",
    "# Predictions\n",
    "y_pred = svm_model.predict(X_test)\n",
    "\n",
    "# Classification report and confusion matrix\n",
    "print(classification_report(y_test, y_pred))\n",
    "print(confusion_matrix(y_test, y_pred))\n",
    "\n",
    "# Accuracy\n",
    "print(\"Accuracy:\", accuracy_score(y_test, y_pred))\n"
   ]
  },
  {
   "cell_type": "code",
   "execution_count": null,
   "id": "8d963df0",
   "metadata": {},
   "outputs": [],
   "source": []
  }
 ],
 "metadata": {
  "kernelspec": {
   "display_name": "Python 3 (ipykernel)",
   "language": "python",
   "name": "python3"
  },
  "language_info": {
   "codemirror_mode": {
    "name": "ipython",
    "version": 3
   },
   "file_extension": ".py",
   "mimetype": "text/x-python",
   "name": "python",
   "nbconvert_exporter": "python",
   "pygments_lexer": "ipython3",
   "version": "3.9.13"
  }
 },
 "nbformat": 4,
 "nbformat_minor": 5
}
