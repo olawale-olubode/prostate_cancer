{
 "cells": [
  {
   "cell_type": "code",
   "execution_count": 1,
   "id": "80c59d2f",
   "metadata": {},
   "outputs": [],
   "source": [
    "import pandas as pd"
   ]
  },
  {
   "cell_type": "code",
   "execution_count": 2,
   "id": "72747f7a",
   "metadata": {},
   "outputs": [],
   "source": [
    "final_prostate_data = pd.read_csv(\"final_prostate_data.csv\")"
   ]
  },
  {
   "cell_type": "code",
   "execution_count": 3,
   "id": "6fbd34b1",
   "metadata": {},
   "outputs": [],
   "source": [
    "def convert_to_categorical(df):\n",
    "    \"\"\"\n",
    "    Convert selected columns in a DataFrame to categorical columns if they meet the following criteria:\n",
    "    - Have 14 or fewer unique numbers.\n",
    "    - All non-NaN values are whole numbers without any decimals.\n",
    "\n",
    "    Parameters:\n",
    "    - df (pandas.DataFrame): The input DataFrame.\n",
    "\n",
    "    Returns:\n",
    "    pandas.DataFrame: The DataFrame with selected columns converted to categorical.\n",
    "    \"\"\"\n",
    "    for column in df.columns:\n",
    "        unique_values = df[column].dropna().unique()  # Exclude NaN values\n",
    "        \n",
    "        # Check if the column has 14 or fewer unique values\n",
    "        if len(unique_values) <= 14:\n",
    "            \n",
    "            # Check if all non-NaN values are whole numbers without decimals\n",
    "            if all(value == int(value) and value % 1 == 0 for value in unique_values):\n",
    "                \n",
    "                # Convert the column to categorical\n",
    "                df[column] = pd.to_numeric(df[column], errors='coerce').astype('Int64')\n",
    "                df[column] = df[column].astype('category')\n",
    "    \n",
    "    return df\n",
    "\n",
    "def filter_non_categorical_columns(df):\n",
    "    \"\"\"\n",
    "    Filters out all non-categorical columns from a pandas DataFrame.\n",
    "\n",
    "    Parameters:\n",
    "    - df (pd.DataFrame): The input DataFrame.\n",
    "\n",
    "    Returns:\n",
    "    pd.DataFrame: A new DataFrame containing only the non-categorical columns.\n",
    "    \"\"\"\n",
    "    non_categorical_columns = df.select_dtypes(exclude='category').columns\n",
    "    return df[non_categorical_columns]\n"
   ]
  },
  {
   "cell_type": "code",
   "execution_count": 4,
   "id": "3586841a",
   "metadata": {},
   "outputs": [],
   "source": [
    "# Selecting a subset of features for modeling\n",
    "selected_features = final_prostate_data.columns[:39]\n",
    "target_column_name = \"PROSTCAN_A\"  \n",
    "\n",
    "# Subset the data\n",
    "X = final_prostate_data[selected_features]\n",
    "y = final_prostate_data[target_column_name]"
   ]
  },
  {
   "cell_type": "code",
   "execution_count": 5,
   "id": "a4eb34f8",
   "metadata": {},
   "outputs": [],
   "source": [
    "from sklearn.model_selection import train_test_split\n",
    "from sklearn.preprocessing import StandardScaler, OneHotEncoder\n",
    "from sklearn.compose import ColumnTransformer\n",
    "from sklearn.impute import SimpleImputer\n",
    "\n",
    "# Identifying categorical and numerical columns\n",
    "categorical_cols = X.select_dtypes(include=['object', 'category']).columns\n",
    "numerical_cols = X.select_dtypes(include=['float64', 'int64']).columns\n",
    "\n",
    "# Creating transformers for numerical and categorical data\n",
    "numerical_transformer = StandardScaler()\n",
    "categorical_transformer = OneHotEncoder(handle_unknown='ignore')\n",
    "\n",
    "# Preprocessor\n",
    "preprocessor = ColumnTransformer(\n",
    "    transformers=[\n",
    "        ('num', numerical_transformer, numerical_cols),\n",
    "        ('cat', categorical_transformer, categorical_cols)\n",
    "    ])\n",
    "\n",
    "# Splitting data into training and testing sets\n",
    "X_train, X_test, y_train, y_test = train_test_split(X, y, test_size=0.2, random_state=42)\n",
    "\n",
    "# Fit and transform the training data, and transform the testing data\n",
    "X_train = preprocessor.fit_transform(X_train)\n",
    "X_test = preprocessor.transform(X_test)\n"
   ]
  },
  {
   "cell_type": "code",
   "execution_count": 6,
   "id": "42fb83a9",
   "metadata": {},
   "outputs": [
    {
     "name": "stderr",
     "output_type": "stream",
     "text": [
      "C:\\Users\\HP 10th Gen\\anaconda3\\lib\\site-packages\\sklearn\\impute\\_base.py:49: FutureWarning: Unlike other reduction functions (e.g. `skew`, `kurtosis`), the default behavior of `mode` typically preserves the axis it acts along. In SciPy 1.11.0, this behavior will change: the default value of `keepdims` will become False, the `axis` over which the statistic is taken will be eliminated, and the value None will no longer be accepted. Set `keepdims` to True or False to avoid this warning.\n",
      "  mode = stats.mode(array)\n"
     ]
    }
   ],
   "source": [
    "from sklearn.impute import SimpleImputer\n",
    "\n",
    "# Create an imputer object with a strategy of replacing missing values with the mean\n",
    "imputer = SimpleImputer(strategy='most_frequent')\n",
    "\n",
    "# Apply the imputer to your training data\n",
    "X_train = imputer.fit_transform(X_train)\n"
   ]
  },
  {
   "cell_type": "code",
   "execution_count": 7,
   "id": "0569e8d3",
   "metadata": {},
   "outputs": [
    {
     "name": "stderr",
     "output_type": "stream",
     "text": [
      "C:\\Users\\HP 10th Gen\\anaconda3\\lib\\site-packages\\sklearn\\impute\\_base.py:49: FutureWarning: Unlike other reduction functions (e.g. `skew`, `kurtosis`), the default behavior of `mode` typically preserves the axis it acts along. In SciPy 1.11.0, this behavior will change: the default value of `keepdims` will become False, the `axis` over which the statistic is taken will be eliminated, and the value None will no longer be accepted. Set `keepdims` to True or False to avoid this warning.\n",
      "  mode = stats.mode(array)\n"
     ]
    }
   ],
   "source": [
    "from sklearn.impute import SimpleImputer\n",
    "\n",
    "# Create an imputer object with a strategy of replacing missing values with the mean\n",
    "imputer = SimpleImputer(strategy='most_frequent')\n",
    "\n",
    "# Apply the imputer to your training data\n",
    "X_test = imputer.fit_transform(X_test)\n"
   ]
  },
  {
   "cell_type": "code",
   "execution_count": 8,
   "id": "3f503dfe",
   "metadata": {},
   "outputs": [
    {
     "name": "stderr",
     "output_type": "stream",
     "text": [
      "C:\\Users\\HP 10th Gen\\anaconda3\\lib\\site-packages\\sklearn\\impute\\_base.py:49: FutureWarning: Unlike other reduction functions (e.g. `skew`, `kurtosis`), the default behavior of `mode` typically preserves the axis it acts along. In SciPy 1.11.0, this behavior will change: the default value of `keepdims` will become False, the `axis` over which the statistic is taken will be eliminated, and the value None will no longer be accepted. Set `keepdims` to True or False to avoid this warning.\n",
      "  mode = stats.mode(array)\n"
     ]
    }
   ],
   "source": [
    "import numpy as np\n",
    "\n",
    "# Replace inf/-inf with NaN\n",
    "X_train = np.where(np.isinf(X_train), np.nan, X_train)\n",
    "\n",
    "# Then you can apply the imputer (as shown above) to handle these NaN values\n",
    "X_train = imputer.fit_transform(X_train)"
   ]
  },
  {
   "cell_type": "code",
   "execution_count": 9,
   "id": "ed9b13f2",
   "metadata": {},
   "outputs": [],
   "source": [
    "from imblearn.over_sampling import SMOTE\n",
    "\n",
    "# Apply SMOTE to generate synthetic samples for minority class\n",
    "smote = SMOTE()\n",
    "X_train, y_train = smote.fit_resample(X_train, y_train)"
   ]
  },
  {
   "cell_type": "code",
   "execution_count": 10,
   "id": "cbca72a8",
   "metadata": {},
   "outputs": [
    {
     "name": "stderr",
     "output_type": "stream",
     "text": [
      "C:\\Users\\HP 10th Gen\\anaconda3\\lib\\site-packages\\sklearn\\linear_model\\_logistic.py:814: ConvergenceWarning: lbfgs failed to converge (status=1):\n",
      "STOP: TOTAL NO. of ITERATIONS REACHED LIMIT.\n",
      "\n",
      "Increase the number of iterations (max_iter) or scale the data as shown in:\n",
      "    https://scikit-learn.org/stable/modules/preprocessing.html\n",
      "Please also refer to the documentation for alternative solver options:\n",
      "    https://scikit-learn.org/stable/modules/linear_model.html#logistic-regression\n",
      "  n_iter_i = _check_optimize_result(\n"
     ]
    },
    {
     "data": {
      "text/plain": [
       "LogisticRegression()"
      ]
     },
     "execution_count": 10,
     "metadata": {},
     "output_type": "execute_result"
    }
   ],
   "source": [
    "from sklearn.linear_model import LogisticRegression\n",
    "\n",
    "# Create a Logistic Regression model\n",
    "log_reg_model = LogisticRegression()\n",
    "\n",
    "# Train the model\n",
    "log_reg_model.fit(X_train, y_train)"
   ]
  },
  {
   "cell_type": "code",
   "execution_count": 11,
   "id": "27339c51",
   "metadata": {},
   "outputs": [
    {
     "name": "stdout",
     "output_type": "stream",
     "text": [
      "              precision    recall  f1-score   support\n",
      "\n",
      "         1.0       1.00      1.00      1.00      4198\n",
      "         2.0       1.00      1.00      1.00      4198\n",
      "         7.0       1.00      1.00      1.00      4198\n",
      "         9.0       1.00      1.00      1.00      4198\n",
      "\n",
      "    accuracy                           1.00     16792\n",
      "   macro avg       1.00      1.00      1.00     16792\n",
      "weighted avg       1.00      1.00      1.00     16792\n",
      "\n"
     ]
    }
   ],
   "source": [
    "# Assuming your logistic regression model is named log_reg_model\n",
    "y_train_pred = log_reg_model.predict(X_train)\n",
    "from sklearn.metrics import classification_report\n",
    "\n",
    "# Generate and print the classification report\n",
    "print(classification_report(y_train, y_train_pred))"
   ]
  },
  {
   "cell_type": "code",
   "execution_count": 12,
   "id": "799ea04c",
   "metadata": {},
   "outputs": [],
   "source": [
    "# Assuming you have a test set ready (X_test)\n",
    "y_pred = log_reg_model.predict(X_test)"
   ]
  },
  {
   "cell_type": "code",
   "execution_count": 13,
   "id": "bb1060c5",
   "metadata": {},
   "outputs": [
    {
     "name": "stdout",
     "output_type": "stream",
     "text": [
      "Accuracy: 0.9993293091884641\n",
      "              precision    recall  f1-score   support\n",
      "\n",
      "         1.0       1.00      1.00      1.00       439\n",
      "         2.0       1.00      1.00      1.00      1039\n",
      "         7.0       0.67      1.00      0.80         2\n",
      "         9.0       1.00      0.91      0.95        11\n",
      "\n",
      "    accuracy                           1.00      1491\n",
      "   macro avg       0.92      0.98      0.94      1491\n",
      "weighted avg       1.00      1.00      1.00      1491\n",
      "\n",
      "Confusion Matrix:\n",
      " [[ 439    0    0    0]\n",
      " [   0 1039    0    0]\n",
      " [   0    0    2    0]\n",
      " [   0    0    1   10]]\n"
     ]
    }
   ],
   "source": [
    "from sklearn.metrics import classification_report, accuracy_score, confusion_matrix\n",
    "\n",
    "# Calculate accuracy\n",
    "accuracy = accuracy_score(y_test, y_pred)\n",
    "print(\"Accuracy:\", accuracy)\n",
    "\n",
    "# Generate a classification report\n",
    "print(classification_report(y_test, y_pred))\n",
    "\n",
    "# Generate and display the confusion matrix\n",
    "cm = confusion_matrix(y_test, y_pred)\n",
    "print(\"Confusion Matrix:\\n\", cm)"
   ]
  },
  {
   "cell_type": "code",
   "execution_count": 14,
   "id": "4c78eeeb",
   "metadata": {},
   "outputs": [
    {
     "data": {
      "image/png": "[encoded data removed]",
      "text/plain": [
       "<Figure size 640x480 with 2 Axes>"
      ]
     },
     "metadata": {},
     "output_type": "display_data"
    }
   ],
   "source": [
    "import seaborn as sns\n",
    "import matplotlib.pyplot as plt\n",
    "\n",
    "sns.heatmap(cm, annot=True, fmt=\"d\", cmap=\"Blues\")\n",
    "plt.title(\"Confusion Matrix\")\n",
    "plt.ylabel('Actual Values')\n",
    "plt.xlabel('Predicted Values')\n",
    "plt.show()"
   ]
  }
 ],
 "metadata": {
  "kernelspec": {
   "display_name": "Python 3 (ipykernel)",
   "language": "python",
   "name": "python3"
  },
  "language_info": {
   "codemirror_mode": {
    "name": "ipython",
    "version": 3
   },
   "file_extension": ".py",
   "mimetype": "text/x-python",
   "name": "python",
   "nbconvert_exporter": "python",
   "pygments_lexer": "ipython3",
   "version": "3.9.13"
  }
 },
 "nbformat": 4,
 "nbformat_minor": 5
}
