{
 "cells": [
  {
   "cell_type": "code",
   "execution_count": 1,
   "id": "6216c4e9",
   "metadata": {},
   "outputs": [],
   "source": [
    "import pandas as pd\n",
    "from sklearn.model_selection import train_test_split\n",
    "from sklearn.tree import DecisionTreeClassifier\n",
    "from sklearn.metrics import accuracy_score, confusion_matrix, classification_report"
   ]
  },
  {
   "cell_type": "code",
   "execution_count": 2,
   "id": "6af40f1a",
   "metadata": {},
   "outputs": [],
   "source": [
    "# set a variable to read prostate data\n",
    "prostate_data = pd.read_csv(\"prostate_cancer_required_columns_21.csv\")"
   ]
  },
  {
   "cell_type": "code",
   "execution_count": 3,
   "id": "614f3fd1",
   "metadata": {},
   "outputs": [],
   "source": [
    "columns_to_exclude = [\"AGEP_P\"]\n",
    "\n",
    "# Get a list of columns to convert to categorical data type\n",
    "columns_to_convert = [col for col in prostate_data.columns if col not in columns_to_exclude]\n",
    "\n",
    "# Convert the selected columns to categorical data type\n",
    "prostate_data[columns_to_convert] = prostate_data[columns_to_convert].astype(\"category\")\n"
   ]
  },
  {
   "cell_type": "code",
   "execution_count": 4,
   "id": "948f07ac",
   "metadata": {},
   "outputs": [],
   "source": [
    "prostate_data = prostate_data.astype({\"AGEP_A\":'int64'})"
   ]
  },
  {
   "cell_type": "code",
   "execution_count": 5,
   "id": "0a43008b",
   "metadata": {},
   "outputs": [],
   "source": [
    "# Defining features (X) and target variable (y)\n",
    "columns = prostate_data.columns\n",
    "feature_columns = ['AGEP_A', 'URBRRL', 'BMICAT_A', 'EDUCP_A', 'POVRATTC_A']  # feature columns\n",
    "target_column = 'PROSTCAN_A'  #  target column name\n",
    "X = prostate_data[feature_columns]\n",
    "y = prostate_data[target_column]"
   ]
  },
  {
   "cell_type": "code",
   "execution_count": 19,
   "id": "e7513f57",
   "metadata": {},
   "outputs": [],
   "source": [
    "target_mapping = {1: 'Positive', 2: 'Negative', 9: 'Not sure', 7: 'Refused'}\n",
    "prostate_data['PROSTCAN_A'] = prostate_data['PROSTCAN_A'].replace(target_mapping)"
   ]
  },
  {
   "cell_type": "code",
   "execution_count": 20,
   "id": "0cef82ce",
   "metadata": {},
   "outputs": [
    {
     "data": {
      "text/plain": [
       "Negative    0.705692\n",
       "Positive    0.287840\n",
       "Not sure    0.005175\n",
       "Refused     0.001294\n",
       "Name: PROSTCAN_A, dtype: float64"
      ]
     },
     "execution_count": 20,
     "metadata": {},
     "output_type": "execute_result"
    }
   ],
   "source": [
    "prostate_data['PROSTCAN_A'].value_counts()/len(prostate_data)"
   ]
  },
  {
   "cell_type": "code",
   "execution_count": 21,
   "id": "a8fbd924",
   "metadata": {},
   "outputs": [],
   "source": [
    "# Split the data into training and testing sets\n",
    "X_train, X_test, y_train, y_test = train_test_split(X, y, test_size=0.2, random_state=42)"
   ]
  },
  {
   "cell_type": "code",
   "execution_count": 22,
   "id": "ad43b69d",
   "metadata": {},
   "outputs": [],
   "source": [
    "# Create a Decision Tree classifier\n",
    "dt_model = DecisionTreeClassifier(random_state=42)"
   ]
  },
  {
   "cell_type": "code",
   "execution_count": 31,
   "id": "5f8f9f60",
   "metadata": {},
   "outputs": [
    {
     "data": {
      "text/plain": [
       "DecisionTreeClassifier(random_state=42)"
      ]
     },
     "execution_count": 31,
     "metadata": {},
     "output_type": "execute_result"
    }
   ],
   "source": [
    "# Fit the model to the training data\n",
    "dt_model.fit(X_train, y_train)"
   ]
  },
  {
   "cell_type": "code",
   "execution_count": 32,
   "id": "79cd838a",
   "metadata": {},
   "outputs": [
    {
     "name": "stdout",
     "output_type": "stream",
     "text": [
      "Results for Decision Tree Model on Training Set:\n",
      "              precision    recall  f1-score   support\n",
      "\n",
      "    Negative       0.99      1.00      0.99       345\n",
      "    Positive       1.00      1.00      1.00       884\n",
      "    Not sure       1.00      1.00      1.00         2\n",
      "     Refused       1.00      1.00      1.00         5\n",
      "\n",
      "    accuracy                           1.00      1236\n",
      "   macro avg       1.00      1.00      1.00      1236\n",
      "weighted avg       1.00      1.00      1.00      1236\n",
      "\n"
     ]
    }
   ],
   "source": [
    "from sklearn.tree import DecisionTreeClassifier\n",
    "from sklearn.metrics import classification_report\n",
    "\n",
    "# Assuming you have X_train, y_train from the previous code\n",
    "\n",
    "# Create a Decision Tree classifier\n",
    "dt_model = DecisionTreeClassifier(random_state=42)\n",
    "\n",
    "# Train the model\n",
    "dt_model.fit(X_train, y_train)\n",
    "\n",
    "# Make predictions on the training set\n",
    "y_train_pred_dt = dt_model.predict(X_train)\n",
    "\n",
    "# Evaluate the model using classification report\n",
    "target_names_dt = ['Negative', 'Positive', 'Not sure', 'Refused']\n",
    "print(\"Results for Decision Tree Model on Training Set:\")\n",
    "print(classification_report(y_train, y_train_pred_dt, target_names=target_names_dt))"
   ]
  },
  {
   "cell_type": "code",
   "execution_count": 33,
   "id": "ebe61804",
   "metadata": {},
   "outputs": [
    {
     "name": "stdout",
     "output_type": "stream",
     "text": [
      "Results for Decision Tree Model on Test Set:\n",
      "              precision    recall  f1-score   support\n",
      "\n",
      "    Negative       0.40      0.32      0.36       100\n",
      "    Positive       0.70      0.76      0.73       207\n",
      "    Not sure       0.00      0.00      0.00         0\n",
      "     Refused       0.00      0.00      0.00         3\n",
      "\n",
      "    accuracy                           0.61       310\n",
      "   macro avg       0.27      0.27      0.27       310\n",
      "weighted avg       0.60      0.61      0.60       310\n",
      "\n"
     ]
    },
    {
     "name": "stderr",
     "output_type": "stream",
     "text": [
      "C:\\Users\\HP 10th Gen\\anaconda3\\lib\\site-packages\\sklearn\\metrics\\_classification.py:1318: UndefinedMetricWarning: Recall and F-score are ill-defined and being set to 0.0 in labels with no true samples. Use `zero_division` parameter to control this behavior.\n",
      "  _warn_prf(average, modifier, msg_start, len(result))\n",
      "C:\\Users\\HP 10th Gen\\anaconda3\\lib\\site-packages\\sklearn\\metrics\\_classification.py:1318: UndefinedMetricWarning: Recall and F-score are ill-defined and being set to 0.0 in labels with no true samples. Use `zero_division` parameter to control this behavior.\n",
      "  _warn_prf(average, modifier, msg_start, len(result))\n",
      "C:\\Users\\HP 10th Gen\\anaconda3\\lib\\site-packages\\sklearn\\metrics\\_classification.py:1318: UndefinedMetricWarning: Recall and F-score are ill-defined and being set to 0.0 in labels with no true samples. Use `zero_division` parameter to control this behavior.\n",
      "  _warn_prf(average, modifier, msg_start, len(result))\n"
     ]
    }
   ],
   "source": [
    "# Make predictions on the test set\n",
    "y_test_pred_dt = dt_model.predict(X_test)\n",
    "\n",
    "# Evaluate the model on the test set using classification report\n",
    "print(\"Results for Decision Tree Model on Test Set:\")\n",
    "print(classification_report(y_test, y_test_pred_dt, target_names=target_names_dt))"
   ]
  },
  {
   "cell_type": "code",
   "execution_count": null,
   "id": "8d7081ea",
   "metadata": {},
   "outputs": [],
   "source": []
  }
 ],
 "metadata": {
  "kernelspec": {
   "display_name": "Python 3 (ipykernel)",
   "language": "python",
   "name": "python3"
  },
  "language_info": {
   "codemirror_mode": {
    "name": "ipython",
    "version": 3
   },
   "file_extension": ".py",
   "mimetype": "text/x-python",
   "name": "python",
   "nbconvert_exporter": "python",
   "pygments_lexer": "ipython3",
   "version": "3.9.13"
  }
 },
 "nbformat": 4,
 "nbformat_minor": 5
}
