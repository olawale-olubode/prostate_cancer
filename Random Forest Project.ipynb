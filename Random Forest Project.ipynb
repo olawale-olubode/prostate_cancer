{
 "cells": [
  {
   "cell_type": "code",
   "execution_count": null,
   "id": "33061b95",
   "metadata": {},
   "outputs": [
    {
     "ename": "",
     "evalue": "",
     "output_type": "error",
     "traceback": [
      "\u001b[1;31mThe kernel failed to start as the Python Environment '.venv' is no longer available. Consider selecting another kernel or refreshing the list of Python Environments."
     ]
    }
   ],
   "source": [
    "import pandas as pd\n",
    "from sklearn.model_selection import train_test_split\n",
    "import matplotlib.pyplot as plt\n",
    "from sklearn.ensemble import RandomForestClassifier\n",
    "from sklearn.metrics import accuracy_score, confusion_matrix, classification_report\n",
    "\n",
    "pd.set_option('display.max_columns', None)\n",
    "%matplotlib inline\n"
   ]
  },
  {
   "cell_type": "code",
   "execution_count": 3,
   "id": "af6d2db5",
   "metadata": {},
   "outputs": [],
   "source": [
    "# set a variable to read prostate data\n",
    "prostate_data = pd.read_csv(\"prostate_cancer_required_columns_21.csv\")"
   ]
  },
  {
   "cell_type": "code",
   "execution_count": 5,
   "id": "a0295b11",
   "metadata": {},
   "outputs": [],
   "source": [
    "columns_to_exclude = [\"AGEP_P\"]\n",
    "\n",
    "# Get a list of columns to convert to categorical data type\n",
    "columns_to_convert = [col for col in prostate_data.columns if col not in columns_to_exclude]\n",
    "\n",
    "# Convert the selected columns to categorical data type\n",
    "prostate_data[columns_to_convert] = prostate_data[columns_to_convert].astype(\"category\")\n"
   ]
  },
  {
   "cell_type": "code",
   "execution_count": 6,
   "id": "da90071c",
   "metadata": {},
   "outputs": [],
   "source": [
    "prostate_data = prostate_data.astype({\"AGEP_A\":'int64'})"
   ]
  },
  {
   "cell_type": "code",
   "execution_count": 8,
   "id": "554a19c3",
   "metadata": {},
   "outputs": [
    {
     "data": {
      "text/plain": [
       "AGEP_A             int64\n",
       "BMICAT_A        category\n",
       "DIBEV_A         category\n",
       "SMKEV_A         category\n",
       "SMKCIGST_A      category\n",
       "CHLEV_A         category\n",
       "ECIGEV_A        category\n",
       "SMKECIGST_A     category\n",
       "COPDEV_A        category\n",
       "ASEV_A          category\n",
       "SASPPHISP_A     category\n",
       "HYPEV_A         category\n",
       "CHDEV_A         category\n",
       "STREV_A         category\n",
       "BREASCAN_A      category\n",
       "SEX_A           category\n",
       "PROSTCAN_A      category\n",
       "HISPALLP_A      category\n",
       "HISDETP_A       category\n",
       "RACEALLP_A      category\n",
       "EDUCP_A         category\n",
       "URBRRL          category\n",
       "K6SPD_A         category\n",
       "EMDWRKCAT1_A    category\n",
       "FDSBALANCE_A    category\n",
       "FDSLESS_A       category\n",
       "FDSHUNGRY_A     category\n",
       "FDSWEIGHT_A     category\n",
       "HOUTENURE_A     category\n",
       "POVRATTC_A      category\n",
       "FDSRUNOUT_A     category\n",
       "FDSLAST_A       category\n",
       "HISP_A          category\n",
       "dtype: object"
      ]
     },
     "execution_count": 8,
     "metadata": {},
     "output_type": "execute_result"
    }
   ],
   "source": [
    "prostate_data.dtypes"
   ]
  },
  {
   "cell_type": "code",
   "execution_count": 24,
   "id": "f00e6270",
   "metadata": {},
   "outputs": [],
   "source": [
    "# Defining features (X) and target variable (y)\n",
    "columns = prostate_data.columns\n",
    "feature_columns = ['AGEP_A', 'URBRRL', 'BMICAT_A', 'EDUCP_A', 'POVRATTC_A']  # feature columns\n",
    "target_column = 'PROSTCAN_A'  #  target column name\n",
    "X = prostate_data[feature_columns]\n",
    "y = prostate_data[target_column]\n"
   ]
  },
  {
   "cell_type": "code",
   "execution_count": 33,
   "id": "3cce5640",
   "metadata": {},
   "outputs": [],
   "source": [
    "target_mapping = {1: 'Positive', 2: 'Negative', 9: 'Not sure', 7: 'Refused'}\n",
    "prostate_data['PROSTCAN_A'] = prostate_data['PROSTCAN_A'].replace(target_mapping)"
   ]
  },
  {
   "cell_type": "code",
   "execution_count": 34,
   "id": "698b3f2b",
   "metadata": {},
   "outputs": [
    {
     "data": {
      "text/plain": [
       "Negative    0.705692\n",
       "Positive    0.287840\n",
       "Not sure    0.005175\n",
       "Refused     0.001294\n",
       "Name: PROSTCAN_A, dtype: float64"
      ]
     },
     "execution_count": 34,
     "metadata": {},
     "output_type": "execute_result"
    }
   ],
   "source": [
    "prostate_data['PROSTCAN_A'].value_counts()/len(prostate_data)"
   ]
  },
  {
   "cell_type": "code",
   "execution_count": 25,
   "id": "7fb4e2f7",
   "metadata": {},
   "outputs": [],
   "source": [
    "# Split the data into training and testing sets\n",
    "X_train, X_test, y_train, y_test = train_test_split(X, y, test_size=0.2, random_state=42)"
   ]
  },
  {
   "cell_type": "code",
   "execution_count": 26,
   "id": "09cc8ba8",
   "metadata": {},
   "outputs": [],
   "source": [
    "# Create a Random Forest classifier\n",
    "rf_model = RandomForestClassifier(random_state=42)"
   ]
  },
  {
   "cell_type": "code",
   "execution_count": 27,
   "id": "0194e834",
   "metadata": {},
   "outputs": [
    {
     "data": {
      "text/plain": [
       "RandomForestClassifier(random_state=42)"
      ]
     },
     "execution_count": 27,
     "metadata": {},
     "output_type": "execute_result"
    }
   ],
   "source": [
    "# Train the model\n",
    "rf_model.fit(X_train, y_train)"
   ]
  },
  {
   "cell_type": "code",
   "execution_count": 28,
   "id": "0b932ff9",
   "metadata": {},
   "outputs": [],
   "source": [
    "# Make predictions on the test set\n",
    "y_pred = rf_model.predict(X_test)\n"
   ]
  },
  {
   "cell_type": "code",
   "execution_count": 37,
   "id": "89c978d7",
   "metadata": {},
   "outputs": [
    {
     "name": "stdout",
     "output_type": "stream",
     "text": [
      "              precision    recall  f1-score   support\n",
      "\n",
      "    Negative       1.00      0.99      0.99       345\n",
      "    Positive       1.00      1.00      1.00       884\n",
      "    Not sure       1.00      1.00      1.00         2\n",
      "     Refused       1.00      1.00      1.00         5\n",
      "\n",
      "    accuracy                           1.00      1236\n",
      "   macro avg       1.00      1.00      1.00      1236\n",
      "weighted avg       1.00      1.00      1.00      1236\n",
      "\n"
     ]
    }
   ],
   "source": [
    "\n",
    "\n",
    "# Assuming you have X_train, y_train from the previous code\n",
    "\n",
    "# Create a Random Forest classifier\n",
    "rf_model = RandomForestClassifier(random_state=42)\n",
    "\n",
    "# Train the model\n",
    "rf_model.fit(X_train, y_train)\n",
    "\n",
    "# Make predictions on the training set\n",
    "y_train_pred = rf_model.predict(X_train)\n",
    "\n",
    "# Evaluate the model using classification report\n",
    "target_names = ['Negative', 'Positive', 'Not sure', 'Refused']\n",
    "print(classification_report(y_train, y_train_pred, target_names=target_names))\n"
   ]
  },
  {
   "cell_type": "code",
   "execution_count": 44,
   "id": "7946f25a",
   "metadata": {},
   "outputs": [
    {
     "name": "stdout",
     "output_type": "stream",
     "text": [
      "Accuracy: 0.63\n",
      "Confusion Matrix:\n",
      "[[ 18  82   0]\n",
      " [ 29 178   0]\n",
      " [  0   3   0]]\n",
      "Classification Report:\n",
      "              precision    recall  f1-score   support\n",
      "\n",
      "         1.0       0.38      0.18      0.24       100\n",
      "         2.0       0.68      0.86      0.76       207\n",
      "         9.0       0.00      0.00      0.00         3\n",
      "\n",
      "    accuracy                           0.63       310\n",
      "   macro avg       0.35      0.35      0.33       310\n",
      "weighted avg       0.58      0.63      0.58       310\n",
      "\n"
     ]
    },
    {
     "name": "stderr",
     "output_type": "stream",
     "text": [
      "C:\\Users\\HP 10th Gen\\anaconda3\\lib\\site-packages\\sklearn\\metrics\\_classification.py:1318: UndefinedMetricWarning: Precision and F-score are ill-defined and being set to 0.0 in labels with no predicted samples. Use `zero_division` parameter to control this behavior.\n",
      "  _warn_prf(average, modifier, msg_start, len(result))\n",
      "C:\\Users\\HP 10th Gen\\anaconda3\\lib\\site-packages\\sklearn\\metrics\\_classification.py:1318: UndefinedMetricWarning: Precision and F-score are ill-defined and being set to 0.0 in labels with no predicted samples. Use `zero_division` parameter to control this behavior.\n",
      "  _warn_prf(average, modifier, msg_start, len(result))\n",
      "C:\\Users\\HP 10th Gen\\anaconda3\\lib\\site-packages\\sklearn\\metrics\\_classification.py:1318: UndefinedMetricWarning: Precision and F-score are ill-defined and being set to 0.0 in labels with no predicted samples. Use `zero_division` parameter to control this behavior.\n",
      "  _warn_prf(average, modifier, msg_start, len(result))\n"
     ]
    }
   ],
   "source": [
    "\n",
    "\n",
    "# Create a Random Forest classifier\n",
    "rf_model = RandomForestClassifier(random_state=42)\n",
    "\n",
    "# Fit the model to the training data\n",
    "rf_model.fit(X_train, y_train)\n",
    "\n",
    "# Make predictions on the test set\n",
    "y_pred = rf_model.predict(X_test)\n",
    "\n",
    "# Evaluate the model\n",
    "accuracy = accuracy_score(y_test, y_pred)\n",
    "conf_matrix = confusion_matrix(y_test, y_pred)\n",
    "classification_rep = classification_report(y_test, y_pred)\n",
    "# Print the results\n",
    "print(f\"Accuracy: {accuracy:.2f}\")\n",
    "print(f\"Confusion Matrix:\\n{conf_matrix}\")\n",
    "print(f\"Classification Report:\\n{classification_rep}\")"
   ]
  },
  {
   "cell_type": "code",
   "execution_count": 30,
   "id": "addd3fd4",
   "metadata": {},
   "outputs": [
    {
     "data": {
      "image/png": "[encoded data removed]",
      "text/plain": [
       "<Figure size 640x480 with 1 Axes>"
      ]
     },
     "metadata": {},
     "output_type": "display_data"
    }
   ],
   "source": [
    "# If you want to see feature importances\n",
    "feature_importances = pd.Series(rf_model.feature_importances_, index=feature_columns)\n",
    "feature_importances.plot(kind='barh')\n",
    "plt.title('Feature Importances')\n",
    "plt.show()"
   ]
  }
 ],
 "metadata": {
  "kernelspec": {
   "display_name": "Python 3 (ipykernel)",
   "language": "python",
   "name": "python3"
  },
  "language_info": {
   "codemirror_mode": {
    "name": "ipython",
    "version": 3
   },
   "file_extension": ".py",
   "mimetype": "text/x-python",
   "name": "python",
   "nbconvert_exporter": "python",
   "pygments_lexer": "ipython3",
   "version": "3.10.12"
  }
 },
 "nbformat": 4,
 "nbformat_minor": 5
}
