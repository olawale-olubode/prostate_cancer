{
 "cells": [
  {
   "cell_type": "code",
   "execution_count": 79,
   "id": "9877d7c6",
   "metadata": {},
   "outputs": [],
   "source": [
    "import pandas as pd\n",
    "from sklearn.model_selection import train_test_split\n",
    "from sklearn.preprocessing import LabelEncoder\n",
    "from sklearn.pipeline import Pipeline\n",
    "from sklearn.compose import ColumnTransformer\n",
    "from sklearn.impute import SimpleImputer\n",
    "from sklearn.preprocessing import OneHotEncoder, StandardScaler\n",
    "from sklearn.tree import DecisionTreeClassifier\n",
    "from sklearn.metrics import roc_auc_score, accuracy_score, confusion_matrix, classification_report, roc_curve\n",
    "from sklearn.model_selection import cross_val_score\n",
    "import numpy as np\n",
    "import matplotlib.pyplot as plt\n"
   ]
  },
  {
   "cell_type": "code",
   "execution_count": 80,
   "id": "703ca277",
   "metadata": {},
   "outputs": [],
   "source": [
    "final_prostate_data = pd.read_csv(\"final_prostate_data.csv\")\n",
    "\n",
    "\n",
    "# Filter the dataset for classes 1 and 2 in \"PROSTCAN_A\"\n",
    "filtered_data = final_prostate_data[final_prostate_data['PROSTCAN_A'].isin([1, 2])]\n",
    "\n",
    "\n",
    "\n",
    "\n",
    "final_prostate_data = pd.read_csv(\"final_prostate_data.csv\")\n",
    "\n",
    "# Separate features and target\n",
    "X = final_prostate_data.drop('PROSTCAN_A', axis=1)\n",
    "y = final_prostate_data['PROSTCAN_A']"
   ]
  },
  {
   "cell_type": "code",
   "execution_count": 81,
   "id": "5496b053",
   "metadata": {},
   "outputs": [],
   "source": [
    "# Identify categorical and numerical columns\n",
    "categorical_cols = X.select_dtypes(include=['object', 'category']).columns\n",
    "numerical_cols = ['AGEP_A']  # Assuming 'AGEP_A' is the only numerical column\n",
    "\n",
    "# Define transformers\n",
    "categorical_transformer = Pipeline(steps=[\n",
    "    ('imputer', SimpleImputer(strategy='most_frequent')),\n",
    "    ('onehot', OneHotEncoder(handle_unknown='ignore'))\n",
    "])\n",
    "\n",
    "numerical_transformer = Pipeline(steps=[\n",
    "    ('imputer', SimpleImputer(strategy='median')),\n",
    "    ('scaler', StandardScaler())\n",
    "])\n",
    "\n",
    "# Preprocessor\n",
    "preprocessor = ColumnTransformer(\n",
    "    transformers=[\n",
    "        ('num', numerical_transformer, numerical_cols),\n",
    "        ('cat', categorical_transformer, categorical_cols)\n",
    "    ])"
   ]
  },
  {
   "cell_type": "code",
   "execution_count": 82,
   "id": "30cfbee2",
   "metadata": {},
   "outputs": [],
   "source": [
    "X_train, X_test, y_train, y_test = train_test_split(X, y, test_size=0.2, random_state=42, stratify=y)\n",
    "# For example, keeping only classes 1 and 2\n",
    "classes_to_keep = [1, 2]\n",
    "\n",
    "filtered_data = final_prostate_data[final_prostate_data['PROSTCAN_A'].isin(classes_to_keep)]"
   ]
  },
  {
   "cell_type": "code",
   "execution_count": 83,
   "id": "301f2bc9",
   "metadata": {},
   "outputs": [],
   "source": [
    "# For example, keeping only classes 1 and 2\n",
    "classes_to_keep = [1, 2]\n",
    "\n",
    "filtered_data = final_prostate_data[final_prostate_data['PROSTCAN_A'].isin(classes_to_keep)]"
   ]
  },
  {
   "cell_type": "code",
   "execution_count": 84,
   "id": "9d435074",
   "metadata": {},
   "outputs": [],
   "source": [
    "X_filtered = filtered_data.drop('PROSTCAN_A', axis=1)\n",
    "y_filtered = filtered_data['PROSTCAN_A']"
   ]
  },
  {
   "cell_type": "code",
   "execution_count": 85,
   "id": "08c2da92",
   "metadata": {},
   "outputs": [],
   "source": [
    "X_train, X_test, y_train, y_test = train_test_split(X_filtered, y_filtered, test_size=0.2, random_state=42, stratify=y_filtered)\n"
   ]
  },
  {
   "cell_type": "code",
   "execution_count": 86,
   "id": "7e3d8ab1",
   "metadata": {},
   "outputs": [],
   "source": [
    "label_encoder = LabelEncoder()\n",
    "y_train_encoded = label_encoder.fit_transform(y_train)\n",
    "y_test_encoded = label_encoder.transform(y_test)"
   ]
  },
  {
   "cell_type": "code",
   "execution_count": 87,
   "id": "9200755b",
   "metadata": {},
   "outputs": [
    {
     "data": {
      "text/plain": [
       "Pipeline(steps=[('preprocessor',\n",
       "                 ColumnTransformer(transformers=[('num',\n",
       "                                                  Pipeline(steps=[('imputer',\n",
       "                                                                   SimpleImputer(strategy='median')),\n",
       "                                                                  ('scaler',\n",
       "                                                                   StandardScaler())]),\n",
       "                                                  ['AGEP_A']),\n",
       "                                                 ('cat',\n",
       "                                                  Pipeline(steps=[('imputer',\n",
       "                                                                   SimpleImputer(strategy='most_frequent')),\n",
       "                                                                  ('onehot',\n",
       "                                                                   OneHotEncoder(handle_unknown='ignore'))]),\n",
       "                                                  Index([], dtype='object'))])),\n",
       "                ('classifier', DecisionTreeClassifier())])"
      ]
     },
     "execution_count": 87,
     "metadata": {},
     "output_type": "execute_result"
    }
   ],
   "source": [
    "#Create a pipeline for the Decision Tree model\n",
    "dt_pipeline = Pipeline(steps=[\n",
    "    ('preprocessor', preprocessor),\n",
    "    ('classifier', DecisionTreeClassifier())\n",
    "])\n",
    "\n",
    "dt_pipeline.fit(X_train, y_train_encoded)\n"
   ]
  },
  {
   "cell_type": "code",
   "execution_count": 88,
   "id": "8c96decc",
   "metadata": {},
   "outputs": [
    {
     "name": "stdout",
     "output_type": "stream",
     "text": [
      "[0 1]\n",
      "Cross-Validation Scores: [0.63145288 0.66105819 0.6384231  0.64489495 0.64710569]\n",
      "Mean Score: 0.6445869604204892\n"
     ]
    }
   ],
   "source": [
    "#Verify if y_train_encoded is binary\n",
    "print(np.unique(y_train_encoded))\n",
    "\n",
    "# If y_train_encoded is not binary, use a different scoring metric\n",
    "if len(np.unique(y_train_encoded)) > 2:\n",
    "    scoring_metric = 'accuracy'  # For multi-class classification\n",
    "else:\n",
    "    scoring_metric = 'roc_auc'   # For binary classification\n",
    "\n",
    "# Perform cross-validation with the appropriate scoring metric\n",
    "cv_scores = cross_val_score(dt_pipeline, X_train, y_train_encoded, cv=5, scoring=scoring_metric)\n",
    "print(\"Cross-Validation Scores:\", cv_scores)\n",
    "print(\"Mean Score:\", cv_scores.mean())"
   ]
  },
  {
   "cell_type": "code",
   "execution_count": 89,
   "id": "57d2024f",
   "metadata": {},
   "outputs": [
    {
     "name": "stdout",
     "output_type": "stream",
     "text": [
      "Test AUC Score: 0.6556509194862259\n",
      "Test Accuracy: 0.7054054054054054\n"
     ]
    }
   ],
   "source": [
    "y_pred = dt_pipeline.predict(X_test)\n",
    "y_pred_proba = dt_pipeline.predict_proba(X_test)[:, 1]\n",
    "test_auc_score = roc_auc_score(y_test_encoded, y_pred_proba)\n",
    "test_accuracy = accuracy_score(y_test_encoded, y_pred)\n",
    "print(\"Test AUC Score:\", test_auc_score)\n",
    "print(\"Test Accuracy:\", test_accuracy)"
   ]
  },
  {
   "cell_type": "code",
   "execution_count": 90,
   "id": "fa3c6a2c",
   "metadata": {},
   "outputs": [
    {
     "name": "stdout",
     "output_type": "stream",
     "text": [
      "Cross-Validation F1 Scores: [0.82929243 0.82888229 0.82830282 0.82970297 0.82929243]\n",
      "Mean F1 Score: 0.8290945888842691\n"
     ]
    }
   ],
   "source": [
    "from sklearn.metrics import make_scorer, f1_score\n",
    "\n",
    "# Custom scorer for F1 score\n",
    "f1_scorer = make_scorer(f1_score, average='binary')  # Use 'binary' for binary classification\n",
    "\n",
    "# Perform cross-validation with F1 scoring metric\n",
    "cv_f1_scores = cross_val_score(dt_pipeline, X_train, y_train_encoded, cv=5, scoring=f1_scorer)\n",
    "print(\"Cross-Validation F1 Scores:\", cv_f1_scores)\n",
    "print(\"Mean F1 Score:\", cv_f1_scores.mean())"
   ]
  },
  {
   "cell_type": "code",
   "execution_count": 91,
   "id": "821fe962",
   "metadata": {},
   "outputs": [
    {
     "name": "stdout",
     "output_type": "stream",
     "text": [
      "Sensitivity (Recall): 0.997134670487106\n",
      "Specificity: 0.0\n"
     ]
    }
   ],
   "source": [
    "from sklearn.metrics import confusion_matrix\n",
    "\n",
    "# Fit the model on the whole training set\n",
    "dt_pipeline.fit(X_train, y_train_encoded)\n",
    "\n",
    "# Predict on the test set\n",
    "y_pred = dt_pipeline.predict(X_test)\n",
    "\n",
    "# Generate the confusion matrix\n",
    "cm = confusion_matrix(y_test_encoded, y_pred)\n",
    "tn, fp, fn, tp = cm.ravel()\n",
    "\n",
    "# Calculate sensitivity (recall) and specificity\n",
    "sensitivity = tp / (tp + fn)  # Also known as recall\n",
    "specificity = tn / (tn + fp)\n",
    "\n",
    "print(\"Sensitivity (Recall):\", sensitivity)\n",
    "print(\"Specificity:\", specificity)"
   ]
  },
  {
   "cell_type": "code",
   "execution_count": 92,
   "id": "895aa24a",
   "metadata": {},
   "outputs": [
    {
     "name": "stdout",
     "output_type": "stream",
     "text": [
      "              precision    recall  f1-score   support\n",
      "\n",
      "           0       0.80      0.00      0.00      1730\n",
      "           1       0.71      1.00      0.83      4190\n",
      "\n",
      "    accuracy                           0.71      5920\n",
      "   macro avg       0.75      0.50      0.42      5920\n",
      "weighted avg       0.74      0.71      0.59      5920\n",
      "\n"
     ]
    }
   ],
   "source": [
    "from sklearn.metrics import classification_report\n",
    "\n",
    "# Generate and print the classification report\n",
    "print(classification_report(y_train_encoded, y_train_pred))"
   ]
  },
  {
   "cell_type": "code",
   "execution_count": 93,
   "id": "baa98b29",
   "metadata": {},
   "outputs": [],
   "source": [
    "# Predict on the test data\n",
    "y_test_pred = dt_pipeline.predict(X_test)"
   ]
  },
  {
   "cell_type": "code",
   "execution_count": 94,
   "id": "481c78e2",
   "metadata": {},
   "outputs": [
    {
     "name": "stdout",
     "output_type": "stream",
     "text": [
      "              precision    recall  f1-score   support\n",
      "\n",
      "           0       0.00      0.00      0.00       433\n",
      "           1       0.71      1.00      0.83      1047\n",
      "\n",
      "    accuracy                           0.71      1480\n",
      "   macro avg       0.35      0.50      0.41      1480\n",
      "weighted avg       0.50      0.71      0.59      1480\n",
      "\n"
     ]
    }
   ],
   "source": [
    "from sklearn.metrics import classification_report\n",
    "\n",
    "# Generate and print the classification report for the test data\n",
    "print(classification_report(y_test_encoded, y_test_pred))"
   ]
  },
  {
   "cell_type": "code",
   "execution_count": 97,
   "id": "acf2b643",
   "metadata": {},
   "outputs": [
    {
     "data": {
      "image/png": "[encoded data removed]",
      "text/plain": [
       "<Figure size 640x480 with 1 Axes>"
      ]
     },
     "metadata": {},
     "output_type": "display_data"
    }
   ],
   "source": [
    "from sklearn.metrics import roc_curve\n",
    "import matplotlib.pyplot as plt\n",
    "\n",
    "# Calculate the ROC curve\n",
    "fpr, tpr, _ = roc_curve(y_test_encoded, y_pred_proba)\n",
    "\n",
    "# Plot the ROC curve\n",
    "plt.figure()\n",
    "plt.plot(fpr, tpr, label='ROC curve (area = %0.2f)' % test_auc_score)\n",
    "plt.plot([0, 1], [0, 1], 'k--')\n",
    "plt.xlim([0.0, 1.0])\n",
    "plt.ylim([0.0, 1.05])\n",
    "plt.xlabel('False Positive Rate')\n",
    "plt.ylabel('True Positive Rate')\n",
    "plt.title('Receiver Operating Characteristic')\n",
    "plt.legend(loc=\"lower right\")\n",
    "plt.show()"
   ]
  },
  {
   "cell_type": "code",
   "execution_count": 78,
   "id": "b39f9423",
   "metadata": {},
   "outputs": [],
   "source": []
  },
  {
   "cell_type": "code",
   "execution_count": null,
   "id": "6810bad8",
   "metadata": {},
   "outputs": [],
   "source": []
  }
 ],
 "metadata": {
  "kernelspec": {
   "display_name": "Python 3 (ipykernel)",
   "language": "python",
   "name": "python3"
  },
  "language_info": {
   "codemirror_mode": {
    "name": "ipython",
    "version": 3
   },
   "file_extension": ".py",
   "mimetype": "text/x-python",
   "name": "python",
   "nbconvert_exporter": "python",
   "pygments_lexer": "ipython3",
   "version": "3.9.13"
  }
 },
 "nbformat": 4,
 "nbformat_minor": 5
}
