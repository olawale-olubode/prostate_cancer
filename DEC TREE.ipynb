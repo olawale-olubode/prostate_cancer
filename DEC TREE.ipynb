{
 "cells": [
  {
   "cell_type": "code",
   "execution_count": 1,
   "id": "16839031",
   "metadata": {},
   "outputs": [],
   "source": [
    "import pandas as pd\n",
    "from sklearn.model_selection import train_test_split\n",
    "from sklearn.tree import DecisionTreeClassifier\n",
    "from sklearn.metrics import classification_report\n",
    "from sklearn.preprocessing import OneHotEncoder, StandardScaler\n",
    "from sklearn.compose import ColumnTransformer\n",
    "from sklearn.impute import SimpleImputer\n",
    "from sklearn.pipeline import Pipeline"
   ]
  },
  {
   "cell_type": "code",
   "execution_count": 2,
   "id": "f7ad1c6f",
   "metadata": {},
   "outputs": [],
   "source": [
    "final_prostate_data = pd.read_csv('final_prostate_data.csv')\n",
    "\n",
    "# Separate features and target\n",
    "X = final_prostate_data.drop('PROSTCAN_A', axis=1)  # Replace 'target_column' with your actual target column name\n",
    "y = final_prostate_data['PROSTCAN_A']\n",
    "\n",
    "# Identify categorical and numerical columns\n",
    "categorical_cols = X.select_dtypes(include=['object', 'category']).columns\n",
    "numerical_cols = X.select_dtypes(include=['int64', 'float64']).columns\n",
    "\n",
    "# Define transformers for preprocessing\n",
    "categorical_transformer = Pipeline(steps=[\n",
    "    ('imputer', SimpleImputer(strategy='most_frequent')),\n",
    "    ('onehot', OneHotEncoder(handle_unknown='ignore'))\n",
    "])\n",
    "\n",
    "numerical_transformer = Pipeline(steps=[\n",
    "    ('imputer', SimpleImputer(strategy='median')),\n",
    "    ('scaler', StandardScaler())\n",
    "])\n",
    "\n",
    "# Preprocessor\n",
    "preprocessor = ColumnTransformer(\n",
    "    transformers=[\n",
    "        ('num', numerical_transformer, numerical_cols),\n",
    "        ('cat', categorical_transformer, categorical_cols)\n",
    "    ])\n",
    "\n",
    "# Split the data into training and test sets\n",
    "X_train, X_test, y_train, y_test = train_test_split(X, y, test_size=0.2, random_state=42)\n"
   ]
  },
  {
   "cell_type": "code",
   "execution_count": 3,
   "id": "6ac348d5",
   "metadata": {},
   "outputs": [
    {
     "data": {
      "text/plain": [
       "Pipeline(steps=[('preprocessor',\n",
       "                 ColumnTransformer(transformers=[('num',\n",
       "                                                  Pipeline(steps=[('imputer',\n",
       "                                                                   SimpleImputer(strategy='median')),\n",
       "                                                                  ('scaler',\n",
       "                                                                   StandardScaler())]),\n",
       "                                                  Index(['BMICAT_A', 'DIBEV_A', 'SMKCIGST_A', 'ASEV_A', 'COPDEV_A', 'HYPEV_A',\n",
       "       'AGEP_A', 'SKNNMCAN_A', 'OTHERCANP_A', 'SKNDCAN_A', 'MELANCAN_A',\n",
       "       'WEIGHTLBTC_A', 'LUNGCAN_A', 'LYMPHCAN_A', 'COLONCAN_A', 'HE...\n",
       "       'LARYNCAN_A', 'BREASCAN_A', 'REGION', 'ANXFREQ_A', 'RACEALLP',\n",
       "       'HOUYRSLIV_A', 'SMOKELSEV_A', 'CHDEV_A', 'PSATEST_A', 'LEGMSTAT_A',\n",
       "       'ORIENT_A', 'ECIGEV_A'],\n",
       "      dtype='object')),\n",
       "                                                 ('cat',\n",
       "                                                  Pipeline(steps=[('imputer',\n",
       "                                                                   SimpleImputer(strategy='most_frequent')),\n",
       "                                                                  ('onehot',\n",
       "                                                                   OneHotEncoder(handle_unknown='ignore'))]),\n",
       "                                                  Index([], dtype='object'))])),\n",
       "                ('classifier', DecisionTreeClassifier(random_state=42))])"
      ]
     },
     "execution_count": 3,
     "metadata": {},
     "output_type": "execute_result"
    }
   ],
   "source": [
    "# Create a pipeline with the Decision Tree model\n",
    "dt_pipeline = Pipeline(steps=[\n",
    "    ('preprocessor', preprocessor),\n",
    "    ('classifier', DecisionTreeClassifier(random_state=42))\n",
    "])\n",
    "\n",
    "# Train the model on the training data\n",
    "dt_pipeline.fit(X_train, y_train)"
   ]
  },
  {
   "cell_type": "code",
   "execution_count": 4,
   "id": "3d130378",
   "metadata": {},
   "outputs": [
    {
     "name": "stdout",
     "output_type": "stream",
     "text": [
      "Classification Report for Training Data:\n",
      "              precision    recall  f1-score   support\n",
      "\n",
      "         1.0       1.00      1.00      1.00      1724\n",
      "         2.0       1.00      1.00      1.00      4198\n",
      "         7.0       1.00      1.00      1.00        10\n",
      "         9.0       1.00      1.00      1.00        32\n",
      "\n",
      "    accuracy                           1.00      5964\n",
      "   macro avg       1.00      1.00      1.00      5964\n",
      "weighted avg       1.00      1.00      1.00      5964\n",
      "\n"
     ]
    }
   ],
   "source": [
    "# Predict on the training data\n",
    "y_train_pred = dt_pipeline.predict(X_train)\n",
    "# Generate and print the classification report for the training data\n",
    "print(\"Classification Report for Training Data:\")\n",
    "print(classification_report(y_train, y_train_pred))"
   ]
  },
  {
   "cell_type": "code",
   "execution_count": 5,
   "id": "e77691a8",
   "metadata": {},
   "outputs": [
    {
     "name": "stdout",
     "output_type": "stream",
     "text": [
      "              precision    recall  f1-score   support\n",
      "\n",
      "         1.0       0.86      0.87      0.86       439\n",
      "         2.0       0.95      0.94      0.94      1039\n",
      "         7.0       1.00      1.00      1.00         2\n",
      "         9.0       1.00      1.00      1.00        11\n",
      "\n",
      "    accuracy                           0.92      1491\n",
      "   macro avg       0.95      0.95      0.95      1491\n",
      "weighted avg       0.92      0.92      0.92      1491\n",
      "\n"
     ]
    }
   ],
   "source": [
    "# Predict on the test data\n",
    "y_test_pred = dt_pipeline.predict(X_test)\n",
    "\n",
    "# Generate and print the classification report for the test data\n",
    "print(classification_report(y_test, y_test_pred))"
   ]
  }
 ],
 "metadata": {
  "kernelspec": {
   "display_name": "Python 3 (ipykernel)",
   "language": "python",
   "name": "python3"
  },
  "language_info": {
   "codemirror_mode": {
    "name": "ipython",
    "version": 3
   },
   "file_extension": ".py",
   "mimetype": "text/x-python",
   "name": "python",
   "nbconvert_exporter": "python",
   "pygments_lexer": "ipython3",
   "version": "3.9.13"
  }
 },
 "nbformat": 4,
 "nbformat_minor": 5
}
